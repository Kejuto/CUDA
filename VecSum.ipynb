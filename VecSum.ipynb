{
 "cells": [
  {
   "cell_type": "code",
   "execution_count": 1,
   "metadata": {},
   "outputs": [
    {
     "name": "stdout",
     "output_type": "stream",
     "text": [
      "Сумма элементов вектора (CPU): 500333.21875\n",
      "Время вычисления (CPU): 0.219662 секунд\n",
      "Сумма элементов вектора (GPU): 500337.59375\n",
      "Время вычисления (GPU): 0.088739 секунд\n"
     ]
    }
   ],
   "source": [
    "import numpy as np\n",
    "import cupy as cp\n",
    "import time\n",
    "\n",
    "# Генерация вектора размером 1 000 000 значений\n",
    "vector_size = 1_000_000\n",
    "vector = np.random.rand(vector_size).astype(np.float32)  # Вектор случайных значений на CPU\n",
    "\n",
    "# Функция для сложения элементов вектора на CPU\n",
    "def sum_vector_cpu(vec):\n",
    "    total_sum = 0\n",
    "    for value in vec:\n",
    "        total_sum += value\n",
    "    return total_sum\n",
    "\n",
    "# Функция для сложения элементов вектора на GPU\n",
    "def sum_vector_gpu(vec):\n",
    "    total_sum = cp.sum(vec)  # Используем встроенную функцию sum в CuPy\n",
    "    return total_sum\n",
    "\n",
    "# Измерение времени выполнения на CPU\n",
    "start_time_cpu = time.time()\n",
    "result_cpu = sum_vector_cpu(vector)\n",
    "end_time_cpu = time.time()\n",
    "\n",
    "# Измерение времени выполнения на GPU\n",
    "vector_gpu = cp.asarray(vector)  # Переносим данные на GPU\n",
    "start_time_gpu = time.time()\n",
    "result_gpu = sum_vector_gpu(vector_gpu)\n",
    "end_time_gpu = time.time()\n",
    "\n",
    "# Вывод результатов\n",
    "print(f\"Сумма элементов вектора (CPU): {result_cpu}\")\n",
    "print(f\"Время вычисления (CPU): {end_time_cpu - start_time_cpu:.6f} секунд\")\n",
    "\n",
    "print(f\"Сумма элементов вектора (GPU): {result_gpu}\")\n",
    "print(f\"Время вычисления (GPU): {end_time_gpu - start_time_gpu:.6f} секунд\")"
   ]
  }
 ],
 "metadata": {
  "kernelspec": {
   "display_name": "Python 3",
   "language": "python",
   "name": "python3"
  },
  "language_info": {
   "codemirror_mode": {
    "name": "ipython",
    "version": 3
   },
   "file_extension": ".py",
   "mimetype": "text/x-python",
   "name": "python",
   "nbconvert_exporter": "python",
   "pygments_lexer": "ipython3",
   "version": "3.12.6"
  }
 },
 "nbformat": 4,
 "nbformat_minor": 2
}
